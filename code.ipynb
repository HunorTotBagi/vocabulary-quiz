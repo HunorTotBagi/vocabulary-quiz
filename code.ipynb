{
 "cells": [
  {
   "cell_type": "code",
   "execution_count": 1,
   "id": "f134f551",
   "metadata": {},
   "outputs": [],
   "source": [
    "import random\n",
    "\n",
    "def create_dictionary_from_txt(txt_file):\n",
    "    translation_dict = {}\n",
    "\n",
    "    with open(txt_file, 'r', encoding='utf-8') as file:\n",
    "        for line in file:\n",
    "            line = line.strip()\n",
    "\n",
    "            if line:\n",
    "                source_word, target_word = line.split(' - ')\n",
    "                translation_dict[source_word.strip()] = target_word.strip()\n",
    "\n",
    "    return translation_dict"
   ]
  },
  {
   "cell_type": "code",
   "execution_count": 2,
   "id": "a8c209c4",
   "metadata": {},
   "outputs": [],
   "source": [
    "def the_test(dictionary):\n",
    "    score = 0\n",
    "    wrong_answers = []\n",
    "    wrong_answers_input = []\n",
    "    \n",
    "    keys_list = list(dictionary.keys())\n",
    "    random.shuffle(keys_list)\n",
    "\n",
    "    for key in keys_list:        \n",
    "        while True:\n",
    "            print(\"\\nHilfe: Ä, ä, Ö, ö, Ü, ü, ß\\n\")\n",
    "            print(\"Das nächste Wort ist:\", key)\n",
    "            user_input = input(\"Ins Deutsche übersetzen: \").strip()\n",
    "            print()\n",
    "\n",
    "            if user_input:\n",
    "                break\n",
    "            else:\n",
    "                print(\"Sie haben nichts eingegeben, versuchen Sie es erneut.\\n\")\n",
    "\n",
    "        correct_answer = dictionary[key]\n",
    "\n",
    "        if user_input != correct_answer:\n",
    "            print(\"Falsche Antwort!\")\n",
    "            print(\"-----------------------\")\n",
    "            wrong_answers.append(key)\n",
    "            wrong_answers_input.append(user_input)\n",
    "        else:\n",
    "            score += 1\n",
    "            print(\"Richtig!\")\n",
    "            print(\"-----------------------\")\n",
    "\n",
    "    total = len(keys_list)\n",
    "    final_score = round((score / total) * 100)\n",
    "    print(\"\\n*********************\\n\")\n",
    "    print(f\"Sie hatten {score} von {total} Punkten. Dein Ergebnis ist {final_score}%.\")\n",
    "    print(\"\\n*********************\")\n",
    "\n",
    "    if not wrong_answers:\n",
    "        print(\"\\nDU HAST DEN TEST OHNE FEHLER BESTANDEN!\\n\")\n",
    "    else:\n",
    "        print(\"\\nDeine Fehler:\\n\")\n",
    "        for i, (key, user_input) in enumerate(zip(wrong_answers, wrong_answers_input), 1):\n",
    "            print(f\"{i}) {key} - {dictionary[key]}\")\n",
    "            print(f\"   Deine Antwort: {user_input}\\n\")"
   ]
  },
  {
   "cell_type": "code",
   "execution_count": 3,
   "id": "009f6ae1",
   "metadata": {},
   "outputs": [],
   "source": [
    "dict_01 = create_dictionary_from_txt('database/B-1.1-wörter/1-stunde.txt')\n",
    "dict_02 = create_dictionary_from_txt('database/B-1.1-wörter/2-stunde.txt')\n",
    "dict_03 = create_dictionary_from_txt('database/B-1.1-wörter/3-stunde.txt')\n",
    "dict_04 = create_dictionary_from_txt('database/B-1.1-wörter/4-stunde.txt')\n",
    "dict_05 = create_dictionary_from_txt('database/B-1.1-wörter/5-stunde.txt')\n",
    "dict_06 = create_dictionary_from_txt('database/B-1.1-wörter/6-stunde.txt')\n",
    "dict_08 = create_dictionary_from_txt('database/B-1.1-wörter/8-stunde.txt')"
   ]
  },
  {
   "cell_type": "code",
   "execution_count": null,
   "id": "11327eb9",
   "metadata": {
    "scrolled": true
   },
   "outputs": [
    {
     "name": "stdout",
     "output_type": "stream",
     "text": [
      "\n",
      "Hilfe: Ä, ä, Ö, ö, Ü, ü, ß\n",
      "\n",
      "Das nächste Wort ist: nützlich\n",
      "Ins Deutsche übersetzen: potrebno\n",
      "\n",
      "Falsche Antwort!\n",
      "-----------------------\n",
      "\n",
      "Hilfe: Ä, ä, Ö, ö, Ü, ü, ß\n",
      "\n",
      "Das nächste Wort ist: selbstständig\n"
     ]
    }
   ],
   "source": [
    "# dict_01 - 80%, 100%, 100%\n",
    "# dict_02 - 58%, \n",
    "# dict_03 - 40%, 53%, 67%, 93% || 87%\n",
    "# dict_04 - 58%, 71%, 88% || 54%\n",
    "# dict_05 - 0% ||\n",
    "# dict_06 - 15%, 40%, 85% ||\n",
    "# dict_08 - 25%, 75%, 100% ||\n",
    "#________________________________\n",
    "\n",
    "# dict_01 - \n",
    "\n",
    "the_test(dict_01)"
   ]
  },
  {
   "cell_type": "code",
   "execution_count": null,
   "id": "8c97cce1",
   "metadata": {},
   "outputs": [],
   "source": []
  }
 ],
 "metadata": {
  "kernelspec": {
   "display_name": "Python 3 (ipykernel)",
   "language": "python",
   "name": "python3"
  },
  "language_info": {
   "codemirror_mode": {
    "name": "ipython",
    "version": 3
   },
   "file_extension": ".py",
   "mimetype": "text/x-python",
   "name": "python",
   "nbconvert_exporter": "python",
   "pygments_lexer": "ipython3",
   "version": "3.11.4"
  }
 },
 "nbformat": 4,
 "nbformat_minor": 5
}
